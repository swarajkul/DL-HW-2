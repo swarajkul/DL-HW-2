{
  "cells": [
    {
      "cell_type": "markdown",
      "metadata": {
        "id": "I_TY8zHxY1LS"
      },
      "source": [
        "# Homework 2\n",
        "\n"
      ]
    },
    {
      "cell_type": "markdown",
      "metadata": {
        "id": "4ntLqKt1I84q"
      },
      "source": [
        "# Step 2\n",
        "utilizing the \"QMNIST\" dataset"
      ]
    },
    {
      "cell_type": "code",
      "execution_count": 1,
      "metadata": {
        "id": "_BrJE-MSI-Kf"
      },
      "outputs": [],
      "source": [
        "%matplotlib inline\n",
        "import torch\n",
        "import torch.nn as nn\n",
        "import torch.optim as optim\n",
        "import torchvision\n",
        "from torchvision import datasets, transforms\n",
        "from torch.utils.data import DataLoader\n",
        "import matplotlib.pyplot as plt"
      ]
    },
    {
      "cell_type": "code",
      "execution_count": 2,
      "metadata": {
        "colab": {
          "base_uri": "https://localhost:8080/"
        },
        "id": "iKpUkd41Jtf4",
        "outputId": "ca366534-ce9d-4731-dfe8-659105e47280"
      },
      "outputs": [
        {
          "output_type": "stream",
          "name": "stdout",
          "text": [
            "Downloading https://raw.githubusercontent.com/facebookresearch/qmnist/master/qmnist-train-images-idx3-ubyte.gz to ./data/QMNIST/raw/qmnist-train-images-idx3-ubyte.gz\n"
          ]
        },
        {
          "output_type": "stream",
          "name": "stderr",
          "text": [
            "100%|██████████| 9704059/9704059 [00:00<00:00, 105126090.23it/s]"
          ]
        },
        {
          "output_type": "stream",
          "name": "stdout",
          "text": [
            "Extracting ./data/QMNIST/raw/qmnist-train-images-idx3-ubyte.gz to ./data/QMNIST/raw\n"
          ]
        },
        {
          "output_type": "stream",
          "name": "stderr",
          "text": [
            "\n"
          ]
        },
        {
          "output_type": "stream",
          "name": "stdout",
          "text": [
            "Downloading https://raw.githubusercontent.com/facebookresearch/qmnist/master/qmnist-train-labels-idx2-int.gz to ./data/QMNIST/raw/qmnist-train-labels-idx2-int.gz\n"
          ]
        },
        {
          "output_type": "stream",
          "name": "stderr",
          "text": [
            "100%|██████████| 463024/463024 [00:00<00:00, 12778582.53it/s]"
          ]
        },
        {
          "output_type": "stream",
          "name": "stdout",
          "text": [
            "Extracting ./data/QMNIST/raw/qmnist-train-labels-idx2-int.gz to ./data/QMNIST/raw\n"
          ]
        },
        {
          "output_type": "stream",
          "name": "stderr",
          "text": [
            "\n"
          ]
        },
        {
          "output_type": "stream",
          "name": "stdout",
          "text": [
            "Downloading https://raw.githubusercontent.com/facebookresearch/qmnist/master/qmnist-test-images-idx3-ubyte.gz to ./data/QMNIST/raw/qmnist-test-images-idx3-ubyte.gz\n"
          ]
        },
        {
          "output_type": "stream",
          "name": "stderr",
          "text": [
            "100%|██████████| 9742279/9742279 [00:00<00:00, 103770649.03it/s]"
          ]
        },
        {
          "output_type": "stream",
          "name": "stdout",
          "text": [
            "Extracting ./data/QMNIST/raw/qmnist-test-images-idx3-ubyte.gz to ./data/QMNIST/raw\n"
          ]
        },
        {
          "output_type": "stream",
          "name": "stderr",
          "text": [
            "\n"
          ]
        },
        {
          "output_type": "stream",
          "name": "stdout",
          "text": [
            "Downloading https://raw.githubusercontent.com/facebookresearch/qmnist/master/qmnist-test-labels-idx2-int.gz to ./data/QMNIST/raw/qmnist-test-labels-idx2-int.gz\n"
          ]
        },
        {
          "output_type": "stream",
          "name": "stderr",
          "text": [
            "100%|██████████| 526800/526800 [00:00<00:00, 12804660.13it/s]"
          ]
        },
        {
          "output_type": "stream",
          "name": "stdout",
          "text": [
            "Extracting ./data/QMNIST/raw/qmnist-test-labels-idx2-int.gz to ./data/QMNIST/raw\n"
          ]
        },
        {
          "output_type": "stream",
          "name": "stderr",
          "text": [
            "\n"
          ]
        }
      ],
      "source": [
        "# Define transformations\n",
        "transform = transforms.Compose([\n",
        "    transforms.ToTensor(),\n",
        "    transforms.Normalize((0.5,), (0.5,))\n",
        "])\n",
        "\n",
        "# Load QMNIST dataset and preprocess\n",
        "train_dataset = datasets.QMNIST(root='./data', train=True, download=True, transform=transform)\n",
        "test_dataset = datasets.QMNIST(root='./data', train=False, download=True, transform=transform)\n",
        "\n",
        "# Create data loaders\n",
        "train_loader = DataLoader(train_dataset, batch_size=64, shuffle=True)\n",
        "test_loader = DataLoader(test_dataset, batch_size=64, shuffle=False)"
      ]
    },
    {
      "cell_type": "markdown",
      "metadata": {
        "id": "A00skpJDS3r1"
      },
      "source": []
    },
    {
      "cell_type": "code",
      "execution_count": 3,
      "metadata": {
        "colab": {
          "base_uri": "https://localhost:8080/",
          "height": 675
        },
        "id": "1aTWwvPVSEQn",
        "outputId": "9e457b63-bdef-4ae5-d9a4-7d728019b22b"
      },
      "outputs": [
        {
          "output_type": "display_data",
          "data": {
            "text/plain": [
              "<Figure size 800x800 with 9 Axes>"
            ],
            "image/png": "[encoded data removed]"
          },
          "metadata": {}
        }
      ],
      "source": [
        "import torch\n",
        "import matplotlib.pyplot as plt\n",
        "from torchvision import datasets, transforms\n",
        "\n",
        "# Define labels map\n",
        "labels_map = {\n",
        "    0: \"0\",\n",
        "    1: \"1\",\n",
        "    2: \"2\",\n",
        "    3: \"3\",\n",
        "    4: \"4\",\n",
        "    5: \"5\",\n",
        "    6: \"6\",\n",
        "    7: \"7\",\n",
        "    8: \"8\",\n",
        "    9: \"9\"\n",
        "}\n",
        "\n",
        "# Define transformations\n",
        "transform = transforms.Compose([\n",
        "    transforms.ToTensor(),\n",
        "])\n",
        "\n",
        "# Load QMNIST dataset\n",
        "train_dataset = datasets.QMNIST(root='./data', train=True, download=True, transform=transform)\n",
        "\n",
        "# Create a figure to plot\n",
        "figure = plt.figure(figsize=(8, 8))\n",
        "cols, rows = 3, 3\n",
        "\n",
        "# Iterate over the dataset and plot samples\n",
        "for i in range(1, cols * rows + 1):\n",
        "    sample_idx = torch.randint(len(train_dataset), size=(1,)).item()\n",
        "    img, label = train_dataset[sample_idx]\n",
        "    figure.add_subplot(rows, cols, i)\n",
        "    plt.title(labels_map[label])\n",
        "    plt.axis(\"off\")\n",
        "    plt.imshow(img.squeeze(), cmap=\"gray\")\n",
        "\n",
        "plt.show()"
      ]
    },
    {
      "cell_type": "code",
      "execution_count": 4,
      "metadata": {
        "colab": {
          "base_uri": "https://localhost:8080/",
          "height": 675
        },
        "id": "0bu-_rukSu77",
        "outputId": "bef34af7-4aa6-4901-a08f-b8f000906487"
      },
      "outputs": [
        {
          "output_type": "display_data",
          "data": {
            "text/plain": [
              "<Figure size 800x800 with 9 Axes>"
            ],
            "image/png": "[encoded data removed]"
          },
          "metadata": {}
        }
      ],
      "source": [
        "# Create a figure to plot\n",
        "figure = plt.figure(figsize=(8, 8))\n",
        "cols, rows = 3, 3\n",
        "\n",
        "# Iterate over the test dataset and plot samples\n",
        "for i in range(1, cols * rows + 1):\n",
        "    sample_idx = torch.randint(len(test_dataset), size=(1,)).item()\n",
        "    img, label = test_dataset[sample_idx]\n",
        "    figure.add_subplot(rows, cols, i)\n",
        "    plt.title(labels_map[label])\n",
        "    plt.axis(\"off\")\n",
        "    plt.imshow(img.squeeze(), cmap=\"gray\")\n",
        "\n",
        "plt.show()"
      ]
    },
    {
      "cell_type": "code",
      "execution_count": 5,
      "metadata": {
        "id": "eBt_6_T0JxRZ"
      },
      "outputs": [],
      "source": [
        "# Define the neural network architecture\n",
        "class MLP(nn.Module):\n",
        "    def __init__(self):\n",
        "        super(MLP, self).__init__()\n",
        "        self.fc1 = nn.Linear(28 * 28, 128)\n",
        "        self.fc2 = nn.Linear(128, 64)\n",
        "        self.fc3 = nn.Linear(64, 10)\n",
        "\n",
        "    def forward(self, x):\n",
        "        x = x.view(-1, 28 * 28)\n",
        "        x = torch.relu(self.fc1(x))\n",
        "        x = torch.relu(self.fc2(x))\n",
        "        x = self.fc3(x)\n",
        "        return x\n",
        "\n",
        "# Initialize the neural network\n",
        "model = MLP()"
      ]
    },
    {
      "cell_type": "code",
      "execution_count": 6,
      "metadata": {
        "colab": {
          "base_uri": "https://localhost:8080/"
        },
        "id": "i7LOPbrkJ3Pi",
        "outputId": "732e8fa6-b07f-4568-d9f8-f9971dd6c187"
      },
      "outputs": [
        {
          "output_type": "stream",
          "name": "stdout",
          "text": [
            "Epoch 1, Batch 100, Loss: 1.0337111470103264\n",
            "Epoch 1, Batch 200, Loss: 0.4386751553416252\n",
            "Epoch 1, Batch 300, Loss: 0.4141509573161602\n",
            "Epoch 1, Batch 400, Loss: 0.33490343898534775\n",
            "Epoch 1, Batch 500, Loss: 0.31445020735263823\n",
            "Epoch 1, Batch 600, Loss: 0.28450584813952445\n",
            "Epoch 1, Batch 700, Loss: 0.26106818273663523\n",
            "Epoch 1, Batch 800, Loss: 0.2644056344777346\n",
            "Epoch 1, Batch 900, Loss: 0.24439160391688347\n",
            "Epoch 2, Batch 100, Loss: 0.2142498016357422\n",
            "Epoch 2, Batch 200, Loss: 0.21004280984401702\n",
            "Epoch 2, Batch 300, Loss: 0.2012569072842598\n",
            "Epoch 2, Batch 400, Loss: 0.18451555678620934\n",
            "Epoch 2, Batch 500, Loss: 0.19413704082369804\n",
            "Epoch 2, Batch 600, Loss: 0.18245120249688626\n",
            "Epoch 2, Batch 700, Loss: 0.1646643778309226\n",
            "Epoch 2, Batch 800, Loss: 0.16791698545217515\n",
            "Epoch 2, Batch 900, Loss: 0.16642786737531423\n",
            "Epoch 3, Batch 100, Loss: 0.14530807988718153\n",
            "Epoch 3, Batch 200, Loss: 0.14295325916260482\n",
            "Epoch 3, Batch 300, Loss: 0.14824189875274896\n",
            "Epoch 3, Batch 400, Loss: 0.14814099416136742\n",
            "Epoch 3, Batch 500, Loss: 0.14002327013760804\n",
            "Epoch 3, Batch 600, Loss: 0.12924575408920647\n",
            "Epoch 3, Batch 700, Loss: 0.1385688734613359\n",
            "Epoch 3, Batch 800, Loss: 0.11694747261703015\n",
            "Epoch 3, Batch 900, Loss: 0.12660390423610807\n",
            "Epoch 4, Batch 100, Loss: 0.10421335578896106\n",
            "Epoch 4, Batch 200, Loss: 0.10190687217749655\n",
            "Epoch 4, Batch 300, Loss: 0.11715433215722441\n",
            "Epoch 4, Batch 400, Loss: 0.09983601629734039\n",
            "Epoch 4, Batch 500, Loss: 0.11077789483591914\n",
            "Epoch 4, Batch 600, Loss: 0.10485212041065096\n",
            "Epoch 4, Batch 700, Loss: 0.10642116442322731\n",
            "Epoch 4, Batch 800, Loss: 0.1221928396448493\n",
            "Epoch 4, Batch 900, Loss: 0.10204452227801085\n",
            "Epoch 5, Batch 100, Loss: 0.09291139651089907\n",
            "Epoch 5, Batch 200, Loss: 0.09140532994642854\n",
            "Epoch 5, Batch 300, Loss: 0.0910280491784215\n",
            "Epoch 5, Batch 400, Loss: 0.09261331952176988\n",
            "Epoch 5, Batch 500, Loss: 0.09174413892440497\n",
            "Epoch 5, Batch 600, Loss: 0.097751924386248\n",
            "Epoch 5, Batch 700, Loss: 0.08838684857822955\n",
            "Epoch 5, Batch 800, Loss: 0.08621818326413631\n",
            "Epoch 5, Batch 900, Loss: 0.09799044958315789\n",
            "Epoch 6, Batch 100, Loss: 0.07775309910997748\n",
            "Epoch 6, Batch 200, Loss: 0.07310557337477804\n",
            "Epoch 6, Batch 300, Loss: 0.08138188049197197\n",
            "Epoch 6, Batch 400, Loss: 0.07784996841102838\n",
            "Epoch 6, Batch 500, Loss: 0.08877707387320698\n",
            "Epoch 6, Batch 600, Loss: 0.07876549608074129\n",
            "Epoch 6, Batch 700, Loss: 0.08515412974637002\n",
            "Epoch 6, Batch 800, Loss: 0.08917345334310084\n",
            "Epoch 6, Batch 900, Loss: 0.08568665571976453\n",
            "Epoch 7, Batch 100, Loss: 0.06476609865669161\n",
            "Epoch 7, Batch 200, Loss: 0.08007084783865138\n",
            "Epoch 7, Batch 300, Loss: 0.06418745381990448\n",
            "Epoch 7, Batch 400, Loss: 0.07346245328430086\n",
            "Epoch 7, Batch 500, Loss: 0.07382846832741052\n",
            "Epoch 7, Batch 600, Loss: 0.06524839611258358\n",
            "Epoch 7, Batch 700, Loss: 0.07805682542733848\n",
            "Epoch 7, Batch 800, Loss: 0.07296824169345201\n",
            "Epoch 7, Batch 900, Loss: 0.07090259104734287\n",
            "Epoch 8, Batch 100, Loss: 0.06662465791217982\n",
            "Epoch 8, Batch 200, Loss: 0.05603962515247986\n",
            "Epoch 8, Batch 300, Loss: 0.06854379433905705\n",
            "Epoch 8, Batch 400, Loss: 0.05820776395499706\n",
            "Epoch 8, Batch 500, Loss: 0.06750587568851188\n",
            "Epoch 8, Batch 600, Loss: 0.06840984541922808\n",
            "Epoch 8, Batch 700, Loss: 0.07314809216652066\n",
            "Epoch 8, Batch 800, Loss: 0.07062791193369776\n",
            "Epoch 8, Batch 900, Loss: 0.06474626697367057\n",
            "Epoch 9, Batch 100, Loss: 0.0503762096283026\n",
            "Epoch 9, Batch 200, Loss: 0.06010906960815191\n",
            "Epoch 9, Batch 300, Loss: 0.04700978748267517\n",
            "Epoch 9, Batch 400, Loss: 0.04944688736926764\n",
            "Epoch 9, Batch 500, Loss: 0.06548265152378008\n",
            "Epoch 9, Batch 600, Loss: 0.06353079708991573\n",
            "Epoch 9, Batch 700, Loss: 0.062393209249712527\n",
            "Epoch 9, Batch 800, Loss: 0.06203096569515765\n",
            "Epoch 9, Batch 900, Loss: 0.07452095785643906\n",
            "Epoch 10, Batch 100, Loss: 0.03925782101461664\n",
            "Epoch 10, Batch 200, Loss: 0.04833545372239314\n",
            "Epoch 10, Batch 300, Loss: 0.052600634186528626\n",
            "Epoch 10, Batch 400, Loss: 0.05164900397416204\n",
            "Epoch 10, Batch 500, Loss: 0.04960626654094085\n",
            "Epoch 10, Batch 600, Loss: 0.059339881112100555\n",
            "Epoch 10, Batch 700, Loss: 0.05961372821358964\n",
            "Epoch 10, Batch 800, Loss: 0.0523906832979992\n",
            "Epoch 10, Batch 900, Loss: 0.05298635044600815\n",
            "Finished Training\n"
          ]
        }
      ],
      "source": [
        "# Define the loss function and optimizer\n",
        "criterion = nn.CrossEntropyLoss()\n",
        "optimizer = optim.Adam(model.parameters(), lr=0.001)\n",
        "\n",
        "# Train the neural network\n",
        "num_epochs = 10\n",
        "for epoch in range(num_epochs):\n",
        "    model.train()\n",
        "    running_loss = 0.0\n",
        "    for i, data in enumerate(train_loader, 0):\n",
        "        inputs, labels = data\n",
        "        optimizer.zero_grad()\n",
        "        outputs = model(inputs)\n",
        "        loss = criterion(outputs, labels)\n",
        "        loss.backward()\n",
        "        optimizer.step()\n",
        "        running_loss += loss.item()\n",
        "        if i % 100 == 99:  # print every 100 mini-batches\n",
        "            print(f'Epoch {epoch + 1}, Batch {i + 1}, Loss: {running_loss / 100}')\n",
        "            running_loss = 0.0\n",
        "\n",
        "print('Finished Training')"
      ]
    },
    {
      "cell_type": "code",
      "execution_count": 7,
      "metadata": {
        "colab": {
          "base_uri": "https://localhost:8080/"
        },
        "id": "nZ1Osg8MnMY-",
        "outputId": "8f377179-51f0-4d2a-906c-4beca76dea0a"
      },
      "outputs": [
        {
          "output_type": "stream",
          "name": "stdout",
          "text": [
            "Accuracy on training set: 98.547%\n"
          ]
        }
      ],
      "source": [
        "# Evaluate the model\n",
        "model.eval()\n",
        "correct = 0\n",
        "total = 0\n",
        "with torch.no_grad():\n",
        "    for data in train_loader:\n",
        "        images, labels = data\n",
        "        outputs = model(images)\n",
        "        _, predicted = torch.max(outputs.data, 1)\n",
        "        total += labels.size(0)\n",
        "        correct += (predicted == labels).sum().item()\n",
        "print(f'Accuracy on training set: {round(correct / total * 100, 3)}%')"
      ]
    },
    {
      "cell_type": "code",
      "execution_count": 8,
      "metadata": {
        "colab": {
          "base_uri": "https://localhost:8080/"
        },
        "id": "3DXPLgQJJ6Aq",
        "outputId": "33b21f12-d884-4cd3-a6d1-f6e7010cccda"
      },
      "outputs": [
        {
          "output_type": "stream",
          "name": "stdout",
          "text": [
            "Accuracy on test set: 96.987%\n"
          ]
        }
      ],
      "source": [
        "# Evaluate the model\n",
        "model.eval()\n",
        "correct = 0\n",
        "total = 0\n",
        "with torch.no_grad():\n",
        "    for data in test_loader:\n",
        "        images, labels = data\n",
        "        outputs = model(images)\n",
        "        _, predicted = torch.max(outputs.data, 1)\n",
        "        total += labels.size(0)\n",
        "        correct += (predicted == labels).sum().item()\n",
        "print(f'Accuracy on test set: {round(correct / total * 100, 3)}%')"
      ]
    },
    {
      "cell_type": "code",
      "execution_count": 9,
      "metadata": {
        "id": "E1nluT6ALxSX"
      },
      "outputs": [],
      "source": [
        "# Evaluate the model and store predictions\n",
        "model.eval()\n",
        "predictions = []\n",
        "correct = 0\n",
        "total = 0\n",
        "with torch.no_grad():\n",
        "    for data in test_loader:\n",
        "        images, labels = data\n",
        "        outputs = model(images)\n",
        "        _, predicted = torch.max(outputs.data, 1)\n",
        "        predictions.extend(predicted.numpy())  # Store predictions\n",
        "        total += labels.size(0)\n",
        "        correct += (predicted == labels).sum().item()"
      ]
    },
    {
      "cell_type": "code",
      "execution_count": 10,
      "metadata": {
        "colab": {
          "base_uri": "https://localhost:8080/",
          "height": 428
        },
        "id": "MvdJMXaMMvUD",
        "outputId": "842d8404-5e32-4c33-963d-9f4082245049"
      },
      "outputs": [
        {
          "output_type": "display_data",
          "data": {
            "text/plain": [
              "<Figure size 640x480 with 1 Axes>"
            ],
            "image/png": "[encoded data removed]"
          },
          "metadata": {}
        }
      ],
      "source": [
        "# Get one test image and its label\n",
        "image, label = images[0], labels[0]\n",
        "\n",
        "# Reshape the image tensor to a 28x28 shape\n",
        "image = image.view(28, 28)\n",
        "\n",
        "# Convert the image tensor to a numpy array for visualization\n",
        "image_numpy = image.numpy()\n",
        "\n",
        "# Show the image\n",
        "plt.imshow(image_numpy, cmap='gray')\n",
        "plt.title(f'Predicted Label: {predictions[0]}, Actual Label: {label.item()}')\n",
        "plt.axis('off')\n",
        "plt.show()"
      ]
    },
    {
      "cell_type": "markdown",
      "metadata": {
        "id": "uSwtA2a1d-ec"
      },
      "source": [
        "# Step 3\n",
        "**Report on the results in terms of prediction accuracy on the train and test datasets:**\n",
        "- Accuracy on training set: 98.547%\n",
        "- Accuracy on test set: 96.987%"
      ]
    },
    {
      "cell_type": "markdown",
      "metadata": {
        "id": "60C6nda6eLw4"
      },
      "source": [
        "# Step 4\n",
        "**Chosen Proposed modification:**\n",
        "- Increase the current number of nodes in the layer to 256\n",
        "\n",
        "**Hypothesize how it would change the performance results:**\n",
        "- Expectation is that the performance would be better. Increasing the number of units should increase the representation power of the model, and thus capture complex relationships between the input features."
      ]
    },
    {
      "cell_type": "markdown",
      "metadata": {
        "id": "CyVI6BfBeaNJ"
      },
      "source": [
        "# Step 5\n",
        "Modify the model based on the chosen method and train\n",
        "\n"
      ]
    },
    {
      "cell_type": "code",
      "execution_count": 11,
      "metadata": {
        "colab": {
          "base_uri": "https://localhost:8080/"
        },
        "id": "6HRirZf5edZV",
        "outputId": "af540bf4-b0be-40bc-d7a9-7fc0e89fc23f"
      },
      "outputs": [
        {
          "output_type": "stream",
          "name": "stdout",
          "text": [
            "Epoch 1, Batch 100, Loss: 0.8315333399176598\n",
            "Epoch 1, Batch 200, Loss: 0.3892825858294964\n",
            "Epoch 1, Batch 300, Loss: 0.3312388211488724\n",
            "Epoch 1, Batch 400, Loss: 0.29238864809274673\n",
            "Epoch 1, Batch 500, Loss: 0.25460391253232956\n",
            "Epoch 1, Batch 600, Loss: 0.23815783731639384\n",
            "Epoch 1, Batch 700, Loss: 0.20803514167666434\n",
            "Epoch 1, Batch 800, Loss: 0.18777876071631908\n",
            "Epoch 1, Batch 900, Loss: 0.1991307683289051\n",
            "Epoch 2, Batch 100, Loss: 0.16356412880122662\n",
            "Epoch 2, Batch 200, Loss: 0.15090241089463233\n",
            "Epoch 2, Batch 300, Loss: 0.1390621871314943\n",
            "Epoch 2, Batch 400, Loss: 0.1434594888985157\n",
            "Epoch 2, Batch 500, Loss: 0.1489667522534728\n",
            "Epoch 2, Batch 600, Loss: 0.14218306321650742\n",
            "Epoch 2, Batch 700, Loss: 0.1353009326197207\n",
            "Epoch 2, Batch 800, Loss: 0.14568932274356483\n",
            "Epoch 2, Batch 900, Loss: 0.1307685891725123\n",
            "Epoch 3, Batch 100, Loss: 0.11662997851148248\n",
            "Epoch 3, Batch 200, Loss: 0.11852314038202166\n",
            "Epoch 3, Batch 300, Loss: 0.10695866728201509\n",
            "Epoch 3, Batch 400, Loss: 0.10434953725896776\n",
            "Epoch 3, Batch 500, Loss: 0.10217945214360952\n",
            "Epoch 3, Batch 600, Loss: 0.10390370571985841\n",
            "Epoch 3, Batch 700, Loss: 0.10378297731280327\n",
            "Epoch 3, Batch 800, Loss: 0.10881766075268388\n",
            "Epoch 3, Batch 900, Loss: 0.09820088487584144\n",
            "Epoch 4, Batch 100, Loss: 0.0928465828858316\n",
            "Epoch 4, Batch 200, Loss: 0.08151468455325812\n",
            "Epoch 4, Batch 300, Loss: 0.0773810667777434\n",
            "Epoch 4, Batch 400, Loss: 0.08942119410261512\n",
            "Epoch 4, Batch 500, Loss: 0.09075508187524975\n",
            "Epoch 4, Batch 600, Loss: 0.11268579199910164\n",
            "Epoch 4, Batch 700, Loss: 0.07640957414638251\n",
            "Epoch 4, Batch 800, Loss: 0.08599008219316602\n",
            "Epoch 4, Batch 900, Loss: 0.07069642125163228\n",
            "Epoch 5, Batch 100, Loss: 0.07612278729211538\n",
            "Epoch 5, Batch 200, Loss: 0.0691708096349612\n",
            "Epoch 5, Batch 300, Loss: 0.08637477464741096\n",
            "Epoch 5, Batch 400, Loss: 0.07533965692389756\n",
            "Epoch 5, Batch 500, Loss: 0.07491635583108291\n",
            "Epoch 5, Batch 600, Loss: 0.07313145034946501\n",
            "Epoch 5, Batch 700, Loss: 0.07446946258656681\n",
            "Epoch 5, Batch 800, Loss: 0.06270789837930352\n",
            "Epoch 5, Batch 900, Loss: 0.08406618473585695\n",
            "Epoch 6, Batch 100, Loss: 0.054546973078977316\n",
            "Epoch 6, Batch 200, Loss: 0.05482961439993232\n",
            "Epoch 6, Batch 300, Loss: 0.05621736558154225\n",
            "Epoch 6, Batch 400, Loss: 0.07307907375041395\n",
            "Epoch 6, Batch 500, Loss: 0.057959231664426625\n",
            "Epoch 6, Batch 600, Loss: 0.05731749589089304\n",
            "Epoch 6, Batch 700, Loss: 0.0686611954588443\n",
            "Epoch 6, Batch 800, Loss: 0.08698589231818915\n",
            "Epoch 6, Batch 900, Loss: 0.07381805634126067\n",
            "Epoch 7, Batch 100, Loss: 0.04791958170942962\n",
            "Epoch 7, Batch 200, Loss: 0.056352536051999774\n",
            "Epoch 7, Batch 300, Loss: 0.05400302044348791\n",
            "Epoch 7, Batch 400, Loss: 0.059835347877815366\n",
            "Epoch 7, Batch 500, Loss: 0.05689573156880215\n",
            "Epoch 7, Batch 600, Loss: 0.04522379014757462\n",
            "Epoch 7, Batch 700, Loss: 0.056707184973638504\n",
            "Epoch 7, Batch 800, Loss: 0.05968102044425905\n",
            "Epoch 7, Batch 900, Loss: 0.06830618766602128\n",
            "Epoch 8, Batch 100, Loss: 0.04219352396205068\n",
            "Epoch 8, Batch 200, Loss: 0.04015614970703609\n",
            "Epoch 8, Batch 300, Loss: 0.049519132797140625\n",
            "Epoch 8, Batch 400, Loss: 0.048308824039995674\n",
            "Epoch 8, Batch 500, Loss: 0.0591182462265715\n",
            "Epoch 8, Batch 600, Loss: 0.05172630889574066\n",
            "Epoch 8, Batch 700, Loss: 0.05576264209114015\n",
            "Epoch 8, Batch 800, Loss: 0.05128044608864002\n",
            "Epoch 8, Batch 900, Loss: 0.05665939392289147\n",
            "Epoch 9, Batch 100, Loss: 0.025496594415744766\n",
            "Epoch 9, Batch 200, Loss: 0.03668254701886326\n",
            "Epoch 9, Batch 300, Loss: 0.048139228750951585\n",
            "Epoch 9, Batch 400, Loss: 0.036965990403550676\n",
            "Epoch 9, Batch 500, Loss: 0.040234799212776125\n",
            "Epoch 9, Batch 600, Loss: 0.05505650482024066\n",
            "Epoch 9, Batch 700, Loss: 0.047085062253754584\n",
            "Epoch 9, Batch 800, Loss: 0.049553749695187436\n",
            "Epoch 9, Batch 900, Loss: 0.04456985189113766\n",
            "Epoch 10, Batch 100, Loss: 0.037219762480817736\n",
            "Epoch 10, Batch 200, Loss: 0.03714082796708681\n",
            "Epoch 10, Batch 300, Loss: 0.03674164804397151\n",
            "Epoch 10, Batch 400, Loss: 0.03897200128005352\n",
            "Epoch 10, Batch 500, Loss: 0.03674115068744868\n",
            "Epoch 10, Batch 600, Loss: 0.04037624961638357\n",
            "Epoch 10, Batch 700, Loss: 0.04808993538841605\n",
            "Epoch 10, Batch 800, Loss: 0.038214951218687926\n",
            "Epoch 10, Batch 900, Loss: 0.038304387391544875\n",
            "Finished Training\n",
            "\n",
            "Accuracy on training set: 99.105%\n",
            "\n",
            "Accuracy on test set: 97.52%\n"
          ]
        }
      ],
      "source": [
        "# Define the neural network architecture\n",
        "class MLP2(nn.Module):\n",
        "    def __init__(self):\n",
        "        super(MLP2, self).__init__()\n",
        "        self.fc1 = nn.Linear(28 * 28, 256)\n",
        "        self.fc2 = nn.Linear(256, 256)\n",
        "        self.fc3 = nn.Linear(256, 10)\n",
        "\n",
        "    def forward(self, x):\n",
        "        x = x.view(-1, 28 * 28)\n",
        "        x = torch.relu(self.fc1(x))\n",
        "        x = torch.relu(self.fc2(x))\n",
        "        x = self.fc3(x)\n",
        "        return x\n",
        "\n",
        "# Initialize the neural network\n",
        "model = MLP2()\n",
        "\n",
        "# Define the loss function and optimizer\n",
        "criterion = nn.CrossEntropyLoss()\n",
        "optimizer = optim.Adam(model.parameters(), lr=0.001)\n",
        "\n",
        "# Train the neural network\n",
        "num_epochs = 10\n",
        "for epoch in range(num_epochs):\n",
        "    model.train()\n",
        "    running_loss = 0.0\n",
        "    for i, data in enumerate(train_loader, 0):\n",
        "        inputs, labels = data\n",
        "        optimizer.zero_grad()\n",
        "        outputs = model(inputs)\n",
        "        loss = criterion(outputs, labels)\n",
        "        loss.backward()\n",
        "        optimizer.step()\n",
        "        running_loss += loss.item()\n",
        "        if i % 100 == 99:  # print every 100 mini-batches\n",
        "            print(f'Epoch {epoch + 1}, Batch {i + 1}, Loss: {running_loss / 100}')\n",
        "            running_loss = 0.0\n",
        "\n",
        "print('Finished Training')\n",
        "\n",
        "# Evaluate the model on train set\n",
        "model.eval()\n",
        "correct = 0\n",
        "total = 0\n",
        "with torch.no_grad():\n",
        "    for data in train_loader:\n",
        "        images, labels = data\n",
        "        outputs = model(images)\n",
        "        _, predicted = torch.max(outputs.data, 1)\n",
        "        total += labels.size(0)\n",
        "        correct += (predicted == labels).sum().item()\n",
        "print(f'\\nAccuracy on training set: {round(correct / total * 100, 3)}%')\n",
        "\n",
        "# Evaluate the model on test set\n",
        "model.eval()\n",
        "correct = 0\n",
        "total = 0\n",
        "with torch.no_grad():\n",
        "    for data in test_loader:\n",
        "        images, labels = data\n",
        "        outputs = model(images)\n",
        "        _, predicted = torch.max(outputs.data, 1)\n",
        "        total += labels.size(0)\n",
        "        correct += (predicted == labels).sum().item()\n",
        "print(f'\\nAccuracy on test set: {round(correct / total * 100, 3)}%')"
      ]
    },
    {
      "cell_type": "markdown",
      "metadata": {
        "id": "TzRBv0uEed_H"
      },
      "source": [
        "# Step 6\n",
        "**Report on the results of the modified model and if it matches your hypothesis:**\n",
        "- Accuracy on training set: 99.105%\n",
        "- Accuracy on test set: 97.52%\n",
        "\n"
      ]
    },
    {
      "cell_type": "markdown",
      "metadata": {
        "id": "SNpUAk1SekeY"
      },
      "source": [
        "# Step 7\n",
        "Experiment with different optimizers, loss functions, dropout, and activation functions, and observe the change in performance as you tune these hyperparameters.\n",
        "\n",
        "**I iteratively experimented with various hyperparameters, such as optimizers, loss functions, dropout rates, and activation functions, adjusting them based on the outcomes of the preceding experiments to observe the impact on performance.**"
      ]
    },
    {
      "cell_type": "markdown",
      "metadata": {
        "id": "uHtBeqnprYB9"
      },
      "source": [
        "## Experiment 1\n",
        "- Using LeakyRELU as the activation function"
      ]
    },
    {
      "cell_type": "code",
      "execution_count": 12,
      "metadata": {
        "colab": {
          "base_uri": "https://localhost:8080/"
        },
        "id": "bjqchekReoMW",
        "outputId": "545e8519-b36c-4256-caf2-c9357185a275"
      },
      "outputs": [
        {
          "output_type": "stream",
          "name": "stdout",
          "text": [
            "Epoch 1, Batch 100, Loss: 0.7632160739600659\n",
            "Epoch 1, Batch 200, Loss: 0.39074928596615793\n",
            "Epoch 1, Batch 300, Loss: 0.3213037703931332\n",
            "Epoch 1, Batch 400, Loss: 0.25640905074775217\n",
            "Epoch 1, Batch 500, Loss: 0.24245190277695655\n",
            "Epoch 1, Batch 600, Loss: 0.20931258969008923\n",
            "Epoch 1, Batch 700, Loss: 0.20887336071580648\n",
            "Epoch 1, Batch 800, Loss: 0.1886785141006112\n",
            "Epoch 1, Batch 900, Loss: 0.18757147759199141\n",
            "Epoch 2, Batch 100, Loss: 0.14128543565049767\n",
            "Epoch 2, Batch 200, Loss: 0.14673436660319567\n",
            "Epoch 2, Batch 300, Loss: 0.13652560468763114\n",
            "Epoch 2, Batch 400, Loss: 0.13773572657257319\n",
            "Epoch 2, Batch 500, Loss: 0.13382803009822963\n",
            "Epoch 2, Batch 600, Loss: 0.12957379762083293\n",
            "Epoch 2, Batch 700, Loss: 0.14438747867010535\n",
            "Epoch 2, Batch 800, Loss: 0.13322317080572246\n",
            "Epoch 2, Batch 900, Loss: 0.12175315452739596\n",
            "Epoch 3, Batch 100, Loss: 0.09873482514172792\n",
            "Epoch 3, Batch 200, Loss: 0.09130225039087236\n",
            "Epoch 3, Batch 300, Loss: 0.1249994841683656\n",
            "Epoch 3, Batch 400, Loss: 0.10955851440317929\n",
            "Epoch 3, Batch 500, Loss: 0.10401487143710256\n",
            "Epoch 3, Batch 600, Loss: 0.1151032654941082\n",
            "Epoch 3, Batch 700, Loss: 0.11506371429190039\n",
            "Epoch 3, Batch 800, Loss: 0.11065184027887881\n",
            "Epoch 3, Batch 900, Loss: 0.09647981256246567\n",
            "Epoch 4, Batch 100, Loss: 0.07739383869804442\n",
            "Epoch 4, Batch 200, Loss: 0.07483613112941384\n",
            "Epoch 4, Batch 300, Loss: 0.08056098961271346\n",
            "Epoch 4, Batch 400, Loss: 0.09722494947258382\n",
            "Epoch 4, Batch 500, Loss: 0.0828476348798722\n",
            "Epoch 4, Batch 600, Loss: 0.08429664750350639\n",
            "Epoch 4, Batch 700, Loss: 0.09279217790812254\n",
            "Epoch 4, Batch 800, Loss: 0.09012521831784398\n",
            "Epoch 4, Batch 900, Loss: 0.08224166980013252\n",
            "Epoch 5, Batch 100, Loss: 0.0579814449348487\n",
            "Epoch 5, Batch 200, Loss: 0.06962821991182863\n",
            "Epoch 5, Batch 300, Loss: 0.07557651918381453\n",
            "Epoch 5, Batch 400, Loss: 0.07499260239303113\n",
            "Epoch 5, Batch 500, Loss: 0.07638551456388086\n",
            "Epoch 5, Batch 600, Loss: 0.07280036075972021\n",
            "Epoch 5, Batch 700, Loss: 0.07326028805691749\n",
            "Epoch 5, Batch 800, Loss: 0.07206554035888985\n",
            "Epoch 5, Batch 900, Loss: 0.07443103009369224\n",
            "Epoch 6, Batch 100, Loss: 0.05273988344240934\n",
            "Epoch 6, Batch 200, Loss: 0.0590145654277876\n",
            "Epoch 6, Batch 300, Loss: 0.06779640805441886\n",
            "Epoch 6, Batch 400, Loss: 0.06657050155103207\n",
            "Epoch 6, Batch 500, Loss: 0.06802588867489248\n",
            "Epoch 6, Batch 600, Loss: 0.06519317278871313\n",
            "Epoch 6, Batch 700, Loss: 0.07016593139152974\n",
            "Epoch 6, Batch 800, Loss: 0.06745459567813668\n",
            "Epoch 6, Batch 900, Loss: 0.06955112242838368\n",
            "Epoch 7, Batch 100, Loss: 0.052296474780887364\n",
            "Epoch 7, Batch 200, Loss: 0.04800575849483721\n",
            "Epoch 7, Batch 300, Loss: 0.0566616832849104\n",
            "Epoch 7, Batch 400, Loss: 0.05884141452959739\n",
            "Epoch 7, Batch 500, Loss: 0.0544525728339795\n",
            "Epoch 7, Batch 600, Loss: 0.06031709162518382\n",
            "Epoch 7, Batch 700, Loss: 0.06286693713977001\n",
            "Epoch 7, Batch 800, Loss: 0.05776356118614785\n",
            "Epoch 7, Batch 900, Loss: 0.060017008481081574\n",
            "Epoch 8, Batch 100, Loss: 0.04380330572137609\n",
            "Epoch 8, Batch 200, Loss: 0.05493287850171327\n",
            "Epoch 8, Batch 300, Loss: 0.04862100912840105\n",
            "Epoch 8, Batch 400, Loss: 0.050906454036012294\n",
            "Epoch 8, Batch 500, Loss: 0.05690437270037364\n",
            "Epoch 8, Batch 600, Loss: 0.05210633678711019\n",
            "Epoch 8, Batch 700, Loss: 0.05558749839197844\n",
            "Epoch 8, Batch 800, Loss: 0.05304075084626675\n",
            "Epoch 8, Batch 900, Loss: 0.05690860635484569\n",
            "Epoch 9, Batch 100, Loss: 0.03696327087120153\n",
            "Epoch 9, Batch 200, Loss: 0.04064243300119415\n",
            "Epoch 9, Batch 300, Loss: 0.04487080092250835\n",
            "Epoch 9, Batch 400, Loss: 0.05320825085917022\n",
            "Epoch 9, Batch 500, Loss: 0.040679682787740604\n",
            "Epoch 9, Batch 600, Loss: 0.03817495876282919\n",
            "Epoch 9, Batch 700, Loss: 0.07227023900486529\n",
            "Epoch 9, Batch 800, Loss: 0.0704865946865175\n",
            "Epoch 9, Batch 900, Loss: 0.054486140196677295\n",
            "Epoch 10, Batch 100, Loss: 0.03307107194908895\n",
            "Epoch 10, Batch 200, Loss: 0.04140308475238271\n",
            "Epoch 10, Batch 300, Loss: 0.030779009243706242\n",
            "Epoch 10, Batch 400, Loss: 0.04382532971241744\n",
            "Epoch 10, Batch 500, Loss: 0.046505598508520055\n",
            "Epoch 10, Batch 600, Loss: 0.042793199848383666\n",
            "Epoch 10, Batch 700, Loss: 0.049179610200226306\n",
            "Epoch 10, Batch 800, Loss: 0.053590977806597946\n",
            "Epoch 10, Batch 900, Loss: 0.06367366649559698\n",
            "Finished Training\n",
            "\n",
            "Accuracy on training set: 98.858%\n",
            "\n",
            "Accuracy on test set: 97.272%\n"
          ]
        }
      ],
      "source": [
        "# Define the neural network architecture\n",
        "class MLP3(nn.Module):\n",
        "    def __init__(self):\n",
        "        super(MLP3, self).__init__()\n",
        "        self.fc1 = nn.Linear(28 * 28, 256)\n",
        "        self.fc2 = nn.Linear(256, 256)\n",
        "        self.fc3 = nn.Linear(256, 10)\n",
        "\n",
        "    def forward(self, x):\n",
        "        x = x.view(-1, 28 * 28)\n",
        "        m = nn.LeakyReLU(0.1)\n",
        "        x = m(self.fc1(x))\n",
        "        x = m(self.fc2(x))\n",
        "        x = self.fc3(x)\n",
        "        return x\n",
        "\n",
        "# Initialize the neural network\n",
        "model = MLP3()\n",
        "\n",
        "# Define the loss function and optimizer\n",
        "criterion = nn.CrossEntropyLoss()\n",
        "optimizer = optim.Adam(model.parameters(), lr=0.001)\n",
        "\n",
        "# Train the neural network\n",
        "num_epochs = 10\n",
        "for epoch in range(num_epochs):\n",
        "    model.train()\n",
        "    running_loss = 0.0\n",
        "    for i, data in enumerate(train_loader, 0):\n",
        "        inputs, labels = data\n",
        "        optimizer.zero_grad()\n",
        "        outputs = model(inputs)\n",
        "        loss = criterion(outputs, labels)\n",
        "        loss.backward()\n",
        "        optimizer.step()\n",
        "        running_loss += loss.item()\n",
        "        if i % 100 == 99:  # print every 100 mini-batches\n",
        "            print(f'Epoch {epoch + 1}, Batch {i + 1}, Loss: {running_loss / 100}')\n",
        "            running_loss = 0.0\n",
        "\n",
        "print('Finished Training')\n",
        "\n",
        "# Evaluate the model on train set\n",
        "model.eval()\n",
        "correct = 0\n",
        "total = 0\n",
        "with torch.no_grad():\n",
        "    for data in train_loader:\n",
        "        images, labels = data\n",
        "        outputs = model(images)\n",
        "        _, predicted = torch.max(outputs.data, 1)\n",
        "        total += labels.size(0)\n",
        "        correct += (predicted == labels).sum().item()\n",
        "print(f'\\nAccuracy on training set: {round(correct / total * 100, 3)}%')\n",
        "\n",
        "# Evaluate the model on test set\n",
        "model.eval()\n",
        "correct = 0\n",
        "total = 0\n",
        "with torch.no_grad():\n",
        "    for data in test_loader:\n",
        "        images, labels = data\n",
        "        outputs = model(images)\n",
        "        _, predicted = torch.max(outputs.data, 1)\n",
        "        total += labels.size(0)\n",
        "        correct += (predicted == labels).sum().item()\n",
        "print(f'\\nAccuracy on test set: {round(correct / total * 100, 3)}%')"
      ]
    },
    {
      "cell_type": "markdown",
      "metadata": {
        "id": "0vLdDwuus_ad"
      },
      "source": [
        "**EExperiment 1, Finding: The model's performance showed very slight alterations.**"
      ]
    },
    {
      "cell_type": "markdown",
      "metadata": {
        "id": "BnqjuR3ZtLIc"
      },
      "source": [
        "## Experiment 2\n",
        "- Adding dropout\n",
        "- Using RELU as activation function"
      ]
    },
    {
      "cell_type": "code",
      "execution_count": 13,
      "metadata": {
        "colab": {
          "base_uri": "https://localhost:8080/"
        },
        "id": "t2qd9sTctKft",
        "outputId": "af89efb2-5496-49e7-b7e5-87f461b41edc"
      },
      "outputs": [
        {
          "output_type": "stream",
          "name": "stdout",
          "text": [
            "Epoch 1, Batch 100, Loss: 1.1301324105262756\n",
            "Epoch 1, Batch 200, Loss: 0.5579663163423538\n",
            "Epoch 1, Batch 300, Loss: 0.4410348604619503\n",
            "Epoch 1, Batch 400, Loss: 0.42716115832328794\n",
            "Epoch 1, Batch 500, Loss: 0.39324299186468126\n",
            "Epoch 1, Batch 600, Loss: 0.3758322285115719\n",
            "Epoch 1, Batch 700, Loss: 0.35866938367486\n",
            "Epoch 1, Batch 800, Loss: 0.3222226497530937\n",
            "Epoch 1, Batch 900, Loss: 0.309950697645545\n",
            "Epoch 2, Batch 100, Loss: 0.30416439563035963\n",
            "Epoch 2, Batch 200, Loss: 0.3162388395518064\n",
            "Epoch 2, Batch 300, Loss: 0.27295483633875844\n",
            "Epoch 2, Batch 400, Loss: 0.25656445875763895\n",
            "Epoch 2, Batch 500, Loss: 0.2626371325179935\n",
            "Epoch 2, Batch 600, Loss: 0.2718454971909523\n",
            "Epoch 2, Batch 700, Loss: 0.2693655971437693\n",
            "Epoch 2, Batch 800, Loss: 0.2443015395104885\n",
            "Epoch 2, Batch 900, Loss: 0.238337564393878\n",
            "Epoch 3, Batch 100, Loss: 0.23580751232802868\n",
            "Epoch 3, Batch 200, Loss: 0.23377230532467366\n",
            "Epoch 3, Batch 300, Loss: 0.23278517082333564\n",
            "Epoch 3, Batch 400, Loss: 0.22495040286332368\n",
            "Epoch 3, Batch 500, Loss: 0.2500786595791578\n",
            "Epoch 3, Batch 600, Loss: 0.2283159377425909\n",
            "Epoch 3, Batch 700, Loss: 0.22146965883672237\n",
            "Epoch 3, Batch 800, Loss: 0.24177339538931847\n",
            "Epoch 3, Batch 900, Loss: 0.22338032934814692\n",
            "Epoch 4, Batch 100, Loss: 0.2207101561501622\n",
            "Epoch 4, Batch 200, Loss: 0.20789026204496622\n",
            "Epoch 4, Batch 300, Loss: 0.22313828859478235\n",
            "Epoch 4, Batch 400, Loss: 0.20406753515824674\n",
            "Epoch 4, Batch 500, Loss: 0.1998004169948399\n",
            "Epoch 4, Batch 600, Loss: 0.20395512335002422\n",
            "Epoch 4, Batch 700, Loss: 0.19909961055964231\n",
            "Epoch 4, Batch 800, Loss: 0.21561504632234574\n",
            "Epoch 4, Batch 900, Loss: 0.212048696950078\n",
            "Epoch 5, Batch 100, Loss: 0.20640271496027707\n",
            "Epoch 5, Batch 200, Loss: 0.19721390599384903\n",
            "Epoch 5, Batch 300, Loss: 0.2015337421093136\n",
            "Epoch 5, Batch 400, Loss: 0.19274215441197157\n",
            "Epoch 5, Batch 500, Loss: 0.19127178650349377\n",
            "Epoch 5, Batch 600, Loss: 0.18990719318389893\n",
            "Epoch 5, Batch 700, Loss: 0.19008890483528376\n",
            "Epoch 5, Batch 800, Loss: 0.19006519228219987\n",
            "Epoch 5, Batch 900, Loss: 0.1922839469090104\n",
            "Epoch 6, Batch 100, Loss: 0.19225139826536178\n",
            "Epoch 6, Batch 200, Loss: 0.20135176744312047\n",
            "Epoch 6, Batch 300, Loss: 0.1799675191193819\n",
            "Epoch 6, Batch 400, Loss: 0.1854833898320794\n",
            "Epoch 6, Batch 500, Loss: 0.18022851184010505\n",
            "Epoch 6, Batch 600, Loss: 0.17550670374184846\n",
            "Epoch 6, Batch 700, Loss: 0.17072294596582652\n",
            "Epoch 6, Batch 800, Loss: 0.2020345639437437\n",
            "Epoch 6, Batch 900, Loss: 0.19563283313065769\n",
            "Epoch 7, Batch 100, Loss: 0.1820600875839591\n",
            "Epoch 7, Batch 200, Loss: 0.17381619539111853\n",
            "Epoch 7, Batch 300, Loss: 0.16813043788075446\n",
            "Epoch 7, Batch 400, Loss: 0.17479976695030927\n",
            "Epoch 7, Batch 500, Loss: 0.19064446952193975\n",
            "Epoch 7, Batch 600, Loss: 0.16893525768071413\n",
            "Epoch 7, Batch 700, Loss: 0.17939930766820908\n",
            "Epoch 7, Batch 800, Loss: 0.18523068057373165\n",
            "Epoch 7, Batch 900, Loss: 0.16537558924406767\n",
            "Epoch 8, Batch 100, Loss: 0.17419889688491821\n",
            "Epoch 8, Batch 200, Loss: 0.1619646790996194\n",
            "Epoch 8, Batch 300, Loss: 0.1597123521193862\n",
            "Epoch 8, Batch 400, Loss: 0.15636237598955632\n",
            "Epoch 8, Batch 500, Loss: 0.18047496441751718\n",
            "Epoch 8, Batch 600, Loss: 0.16454665871337057\n",
            "Epoch 8, Batch 700, Loss: 0.16617594338953495\n",
            "Epoch 8, Batch 800, Loss: 0.17190407684072853\n",
            "Epoch 8, Batch 900, Loss: 0.16553398313000797\n",
            "Epoch 9, Batch 100, Loss: 0.16486388685181738\n",
            "Epoch 9, Batch 200, Loss: 0.1572630924731493\n",
            "Epoch 9, Batch 300, Loss: 0.1636925997585058\n",
            "Epoch 9, Batch 400, Loss: 0.1706784223392606\n",
            "Epoch 9, Batch 500, Loss: 0.16337714804336428\n",
            "Epoch 9, Batch 600, Loss: 0.15071498185396195\n",
            "Epoch 9, Batch 700, Loss: 0.14935146786272527\n",
            "Epoch 9, Batch 800, Loss: 0.16795979686081408\n",
            "Epoch 9, Batch 900, Loss: 0.168104260917753\n",
            "Epoch 10, Batch 100, Loss: 0.1418464858084917\n",
            "Epoch 10, Batch 200, Loss: 0.15649175843223928\n",
            "Epoch 10, Batch 300, Loss: 0.14377535965293645\n",
            "Epoch 10, Batch 400, Loss: 0.1703435742482543\n",
            "Epoch 10, Batch 500, Loss: 0.1626422229409218\n",
            "Epoch 10, Batch 600, Loss: 0.154192253947258\n",
            "Epoch 10, Batch 700, Loss: 0.14908742593601346\n",
            "Epoch 10, Batch 800, Loss: 0.15431055093184112\n",
            "Epoch 10, Batch 900, Loss: 0.1783814922347665\n",
            "Finished Training\n",
            "\n",
            "Accuracy on training set: 97.798%\n",
            "\n",
            "Accuracy on test set: 96.82%\n"
          ]
        }
      ],
      "source": [
        "# Define the neural network architecture\n",
        "class MLP4(nn.Module):\n",
        "    def __init__(self):\n",
        "        super(MLP4, self).__init__()\n",
        "        self.fc1 = nn.Linear(28 * 28, 256)\n",
        "        self.dropout = nn.Dropout(0.4)\n",
        "        self.fc2 = nn.Linear(256, 256)\n",
        "        self.fc3 = nn.Linear(256, 10)\n",
        "\n",
        "    def forward(self, x):\n",
        "        x = x.view(-1, 28 * 28)\n",
        "        x = torch.relu(self.fc1(x))\n",
        "        x = self.dropout(x)\n",
        "        x = torch.relu(self.fc2(x))\n",
        "        x = self.dropout(x)\n",
        "        x = self.fc3(x)\n",
        "        return x\n",
        "\n",
        "# Initialize the neural network\n",
        "model = MLP4()\n",
        "\n",
        "# Define the loss function and optimizer\n",
        "criterion = nn.CrossEntropyLoss()\n",
        "optimizer = optim.Adam(model.parameters(), lr=0.001)\n",
        "\n",
        "# Train the neural network\n",
        "num_epochs = 10\n",
        "for epoch in range(num_epochs):\n",
        "    model.train()\n",
        "    running_loss = 0.0\n",
        "    for i, data in enumerate(train_loader, 0):\n",
        "        inputs, labels = data\n",
        "        optimizer.zero_grad()\n",
        "        outputs = model(inputs)\n",
        "        loss = criterion(outputs, labels)\n",
        "        loss.backward()\n",
        "        optimizer.step()\n",
        "        running_loss += loss.item()\n",
        "        if i % 100 == 99:  # print every 100 mini-batches\n",
        "            print(f'Epoch {epoch + 1}, Batch {i + 1}, Loss: {running_loss / 100}')\n",
        "            running_loss = 0.0\n",
        "\n",
        "print('Finished Training')\n",
        "\n",
        "# Evaluate the model on train set\n",
        "model.eval()\n",
        "correct = 0\n",
        "total = 0\n",
        "with torch.no_grad():\n",
        "    for data in train_loader:\n",
        "        images, labels = data\n",
        "        outputs = model(images)\n",
        "        _, predicted = torch.max(outputs.data, 1)\n",
        "        total += labels.size(0)\n",
        "        correct += (predicted == labels).sum().item()\n",
        "print(f'\\nAccuracy on training set: {round(correct / total * 100, 3)}%')\n",
        "\n",
        "# Evaluate the model on test set\n",
        "model.eval()\n",
        "correct = 0\n",
        "total = 0\n",
        "with torch.no_grad():\n",
        "    for data in test_loader:\n",
        "        images, labels = data\n",
        "        outputs = model(images)\n",
        "        _, predicted = torch.max(outputs.data, 1)\n",
        "        total += labels.size(0)\n",
        "        correct += (predicted == labels).sum().item()\n",
        "print(f'\\nAccuracy on test set: {round(correct / total * 100, 3)}%')"
      ]
    },
    {
      "cell_type": "markdown",
      "metadata": {
        "id": "lNwt_5aavmPj"
      },
      "source": [
        "**Experiment 2, Observation: Very slight change in model performance here aswell (similar with experiment 1).**"
      ]
    },
    {
      "cell_type": "markdown",
      "metadata": {
        "id": "aoTKZ3fFv03A"
      },
      "source": [
        "## Experiment 2\n",
        "- Optimizer : SGD with Momentum\n",
        "- Remove Dropout\n",
        "- Keep Loss Function as it is. (CrossEntropyLoss is a good loss function for image classification tasks)\n",
        "- Change epochs to 10"
      ]
    },
    {
      "cell_type": "code",
      "execution_count": 14,
      "metadata": {
        "colab": {
          "base_uri": "https://localhost:8080/"
        },
        "id": "X2ZSDNhSwELr",
        "outputId": "040445bf-1f00-49d4-f16d-02e87f38e37f"
      },
      "outputs": [
        {
          "output_type": "stream",
          "name": "stdout",
          "text": [
            "Epoch 1, Batch 100, Loss: 2.224481210708618\n",
            "Epoch 1, Batch 200, Loss: 1.9270283818244933\n",
            "Epoch 1, Batch 300, Loss: 1.3797918730974197\n",
            "Epoch 1, Batch 400, Loss: 0.9533278000354767\n",
            "Epoch 1, Batch 500, Loss: 0.7103223320841789\n",
            "Epoch 1, Batch 600, Loss: 0.5965730234980583\n",
            "Epoch 1, Batch 700, Loss: 0.5220018112659455\n",
            "Epoch 1, Batch 800, Loss: 0.4797197350859642\n",
            "Epoch 1, Batch 900, Loss: 0.4348887175321579\n",
            "Epoch 2, Batch 100, Loss: 0.41229547426104546\n",
            "Epoch 2, Batch 200, Loss: 0.39053060963749886\n",
            "Epoch 2, Batch 300, Loss: 0.38432685181498527\n",
            "Epoch 2, Batch 400, Loss: 0.35867737501859664\n",
            "Epoch 2, Batch 500, Loss: 0.3665939424932003\n",
            "Epoch 2, Batch 600, Loss: 0.3753409294784069\n",
            "Epoch 2, Batch 700, Loss: 0.34949454620480536\n",
            "Epoch 2, Batch 800, Loss: 0.3416540056467056\n",
            "Epoch 2, Batch 900, Loss: 0.3300665873289108\n",
            "Epoch 3, Batch 100, Loss: 0.3471053323149681\n",
            "Epoch 3, Batch 200, Loss: 0.34517440780997277\n",
            "Epoch 3, Batch 300, Loss: 0.31204001858830455\n",
            "Epoch 3, Batch 400, Loss: 0.32280624479055403\n",
            "Epoch 3, Batch 500, Loss: 0.29858220741152763\n",
            "Epoch 3, Batch 600, Loss: 0.2938095434010029\n",
            "Epoch 3, Batch 700, Loss: 0.3011746067553759\n",
            "Epoch 3, Batch 800, Loss: 0.3061136271804571\n",
            "Epoch 3, Batch 900, Loss: 0.2990823109447956\n",
            "Epoch 4, Batch 100, Loss: 0.2977969065308571\n",
            "Epoch 4, Batch 200, Loss: 0.289566588550806\n",
            "Epoch 4, Batch 300, Loss: 0.29094085201621056\n",
            "Epoch 4, Batch 400, Loss: 0.28548889234662056\n",
            "Epoch 4, Batch 500, Loss: 0.2784247837215662\n",
            "Epoch 4, Batch 600, Loss: 0.2817602883279324\n",
            "Epoch 4, Batch 700, Loss: 0.28624541334807874\n",
            "Epoch 4, Batch 800, Loss: 0.27497914046049116\n",
            "Epoch 4, Batch 900, Loss: 0.2714167831093073\n",
            "Epoch 5, Batch 100, Loss: 0.26403513595461847\n",
            "Epoch 5, Batch 200, Loss: 0.2747901678830385\n",
            "Epoch 5, Batch 300, Loss: 0.2478889002650976\n",
            "Epoch 5, Batch 400, Loss: 0.2509042101353407\n",
            "Epoch 5, Batch 500, Loss: 0.2707058796286583\n",
            "Epoch 5, Batch 600, Loss: 0.2547260344028473\n",
            "Epoch 5, Batch 700, Loss: 0.2639049129188061\n",
            "Epoch 5, Batch 800, Loss: 0.24450028590857983\n",
            "Epoch 5, Batch 900, Loss: 0.2539247103780508\n",
            "Epoch 6, Batch 100, Loss: 0.21968462333083152\n",
            "Epoch 6, Batch 200, Loss: 0.26143161799758674\n",
            "Epoch 6, Batch 300, Loss: 0.237280877456069\n",
            "Epoch 6, Batch 400, Loss: 0.2378515662252903\n",
            "Epoch 6, Batch 500, Loss: 0.2423847432807088\n",
            "Epoch 6, Batch 600, Loss: 0.22766771651804446\n",
            "Epoch 6, Batch 700, Loss: 0.23804111286997795\n",
            "Epoch 6, Batch 800, Loss: 0.2369661721587181\n",
            "Epoch 6, Batch 900, Loss: 0.2277098923921585\n",
            "Epoch 7, Batch 100, Loss: 0.22245338886976243\n",
            "Epoch 7, Batch 200, Loss: 0.2264345270767808\n",
            "Epoch 7, Batch 300, Loss: 0.2159179487079382\n",
            "Epoch 7, Batch 400, Loss: 0.23512667682021857\n",
            "Epoch 7, Batch 500, Loss: 0.22873317301273347\n",
            "Epoch 7, Batch 600, Loss: 0.2209105349704623\n",
            "Epoch 7, Batch 700, Loss: 0.21302233465015888\n",
            "Epoch 7, Batch 800, Loss: 0.19689943373203278\n",
            "Epoch 7, Batch 900, Loss: 0.20591405227780343\n",
            "Epoch 8, Batch 100, Loss: 0.20858232393860818\n",
            "Epoch 8, Batch 200, Loss: 0.20112696617841722\n",
            "Epoch 8, Batch 300, Loss: 0.21119781009852887\n",
            "Epoch 8, Batch 400, Loss: 0.19671707943081856\n",
            "Epoch 8, Batch 500, Loss: 0.2072825477272272\n",
            "Epoch 8, Batch 600, Loss: 0.2029049926251173\n",
            "Epoch 8, Batch 700, Loss: 0.19730667300522328\n",
            "Epoch 8, Batch 800, Loss: 0.1973567495495081\n",
            "Epoch 8, Batch 900, Loss: 0.18383193127810954\n",
            "Epoch 9, Batch 100, Loss: 0.19539404548704625\n",
            "Epoch 9, Batch 200, Loss: 0.1852286897599697\n",
            "Epoch 9, Batch 300, Loss: 0.18016495514661074\n",
            "Epoch 9, Batch 400, Loss: 0.18611078664660455\n",
            "Epoch 9, Batch 500, Loss: 0.20205489829182624\n",
            "Epoch 9, Batch 600, Loss: 0.19575602982193233\n",
            "Epoch 9, Batch 700, Loss: 0.17485307581722737\n",
            "Epoch 9, Batch 800, Loss: 0.1860354572534561\n",
            "Epoch 9, Batch 900, Loss: 0.17310044903308153\n",
            "Epoch 10, Batch 100, Loss: 0.17530674990266562\n",
            "Epoch 10, Batch 200, Loss: 0.16490042373538016\n",
            "Epoch 10, Batch 300, Loss: 0.17012056563049555\n",
            "Epoch 10, Batch 400, Loss: 0.17374056689441203\n",
            "Epoch 10, Batch 500, Loss: 0.18730209432542325\n",
            "Epoch 10, Batch 600, Loss: 0.15776211943477392\n",
            "Epoch 10, Batch 700, Loss: 0.17595849391072987\n",
            "Epoch 10, Batch 800, Loss: 0.16299772270023824\n",
            "Epoch 10, Batch 900, Loss: 0.17590838253498078\n",
            "Finished Training\n",
            "\n",
            "Accuracy on training set: 95.348%\n",
            "\n",
            "Accuracy on test set: 94.765%\n"
          ]
        }
      ],
      "source": [
        "# Define the neural network architecture\n",
        "class MLP5(nn.Module):\n",
        "    def __init__(self):\n",
        "        super(MLP5, self).__init__()\n",
        "        self.fc1 = nn.Linear(28 * 28, 256)\n",
        "        self.fc2 = nn.Linear(256, 256)\n",
        "        self.fc3 = nn.Linear(256, 10)\n",
        "\n",
        "    def forward(self, x):\n",
        "        x = x.view(-1, 28 * 28)\n",
        "        x = torch.relu(self.fc1(x))\n",
        "        x = torch.relu(self.fc2(x))\n",
        "        x = self.fc3(x)\n",
        "        return x\n",
        "\n",
        "# Initialize the neural network\n",
        "model = MLP5()\n",
        "\n",
        "# Define the loss function and optimizer\n",
        "criterion = nn.CrossEntropyLoss()\n",
        "optimizer = optim.SGD(model.parameters(), lr=0.001, momentum=0.9)\n",
        "\n",
        "# Train the neural network\n",
        "num_epochs = 10\n",
        "for epoch in range(num_epochs):\n",
        "    model.train()\n",
        "    running_loss = 0.0\n",
        "    for i, data in enumerate(train_loader, 0):\n",
        "        inputs, labels = data\n",
        "        optimizer.zero_grad()\n",
        "        outputs = model(inputs)\n",
        "        loss = criterion(outputs, labels)\n",
        "        loss.backward()\n",
        "        optimizer.step()\n",
        "        running_loss += loss.item()\n",
        "        if i % 100 == 99:  # print every 100 mini-batches\n",
        "            print(f'Epoch {epoch + 1}, Batch {i + 1}, Loss: {running_loss / 100}')\n",
        "            running_loss = 0.0\n",
        "\n",
        "print('Finished Training')\n",
        "\n",
        "# Evaluate the model on train set\n",
        "model.eval()\n",
        "correct = 0\n",
        "total = 0\n",
        "with torch.no_grad():\n",
        "    for data in train_loader:\n",
        "        images, labels = data\n",
        "        outputs = model(images)\n",
        "        _, predicted = torch.max(outputs.data, 1)\n",
        "        total += labels.size(0)\n",
        "        correct += (predicted == labels).sum().item()\n",
        "print(f'\\nAccuracy on training set: {round(correct / total * 100, 3)}%')\n",
        "\n",
        "# Evaluate the model on test set\n",
        "model.eval()\n",
        "correct = 0\n",
        "total = 0\n",
        "with torch.no_grad():\n",
        "    for data in test_loader:\n",
        "        images, labels = data\n",
        "        outputs = model(images)\n",
        "        _, predicted = torch.max(outputs.data, 1)\n",
        "        total += labels.size(0)\n",
        "        correct += (predicted == labels).sum().item()\n",
        "print(f'\\nAccuracy on test set: {round(correct / total * 100, 3)}%')"
      ]
    },
    {
      "cell_type": "markdown",
      "metadata": {
        "id": "mHoJud-oyCYG"
      },
      "source": [
        "##### **Experiment 3, Result: The observed decrease in model performance indicates that Adam significantly outperforms SGD with momentum.** **bold text**"
      ]
    }
  ],
  "metadata": {
    "accelerator": "GPU",
    "colab": {
      "gpuType": "T4",
      "provenance": []
    },
    "kernelspec": {
      "display_name": "Python 3",
      "name": "python3"
    },
    "language_info": {
      "codemirror_mode": {
        "name": "ipython",
        "version": 3
      },
      "file_extension": ".py",
      "mimetype": "text/x-python",
      "name": "python",
      "nbconvert_exporter": "python",
      "pygments_lexer": "ipython3",
      "version": "3.11.5"
    }
  },
  "nbformat": 4,
  "nbformat_minor": 0
}